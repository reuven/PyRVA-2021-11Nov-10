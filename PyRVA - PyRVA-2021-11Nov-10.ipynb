{
 "cells": [
  {
   "cell_type": "markdown",
   "metadata": {},
   "source": [
    "# Pandemic taxis\n",
    "\n"
   ]
  },
  {
   "cell_type": "code",
   "execution_count": 1,
   "metadata": {},
   "outputs": [
    {
     "name": "stdout",
     "output_type": "stream",
     "text": [
      "'PyRVA - PyRVA-2021-11Nov-10.ipynb'   nyc_taxi_2020-01.csv\r\n",
      " nyc_taxi_2019-01.csv\t\t      nyc_taxi_2020-07.csv\r\n",
      " nyc_taxi_2019-07.csv\r\n"
     ]
    }
   ],
   "source": [
    "!ls "
   ]
  },
  {
   "cell_type": "code",
   "execution_count": 3,
   "metadata": {},
   "outputs": [
    {
     "name": "stdout",
     "output_type": "stream",
     "text": [
      "total 1.9G\r\n",
      "-rw-r--r-- 1 reuven staff  565 Nov 11 01:38 'PyRVA - PyRVA-2021-11Nov-10.ipynb'\r\n",
      "-rw-r--r-- 1 reuven staff 656M Nov 11 01:23  nyc_taxi_2019-01.csv\r\n",
      "-rw-r--r-- 1 reuven staff 558M Nov 11 01:23  nyc_taxi_2019-07.csv\r\n",
      "-rw-r--r-- 1 reuven staff 567M Nov 11 01:23  nyc_taxi_2020-01.csv\r\n",
      "-rw-r--r-- 1 reuven staff  70M Nov 11 01:23  nyc_taxi_2020-07.csv\r\n"
     ]
    }
   ],
   "source": [
    "!ls -lh"
   ]
  },
  {
   "cell_type": "code",
   "execution_count": null,
   "metadata": {},
   "outputs": [],
   "source": []
  }
 ],
 "metadata": {
  "kernelspec": {
   "display_name": "Python 3 (ipykernel)",
   "language": "python",
   "name": "python3"
  },
  "language_info": {
   "codemirror_mode": {
    "name": "ipython",
    "version": 3
   },
   "file_extension": ".py",
   "mimetype": "text/x-python",
   "name": "python",
   "nbconvert_exporter": "python",
   "pygments_lexer": "ipython3",
   "version": "3.10.0"
  }
 },
 "nbformat": 4,
 "nbformat_minor": 4
}
